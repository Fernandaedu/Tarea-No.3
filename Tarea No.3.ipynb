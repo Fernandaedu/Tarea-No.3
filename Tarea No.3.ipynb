{
 "cells": [
  {
   "attachments": {},
   "cell_type": "markdown",
   "metadata": {},
   "source": [
    "#### Laboratorio #3 – Pipeline - Ingeniería de Características"
   ]
  },
  {
   "attachments": {},
   "cell_type": "markdown",
   "metadata": {},
   "source": [
    "#### MARIA FERNANDA MORALES ALVAREZ CARNÉ 220007685"
   ]
  },
  {
   "cell_type": "code",
   "execution_count": 25,
   "metadata": {},
   "outputs": [],
   "source": [
    "import pandas as pd\n",
    "import numpy as np\n",
    "import matplotlib.pyplot as plt\n",
    "\n",
    "from sklearn.model_selection import train_test_split\n",
    "from sklearn.model_selection import cross_val_score\n",
    "\n",
    "from sklearn.preprocessing import StandardScaler\n",
    "from sklearn.preprocessing import LabelEncoder\n",
    "\n",
    "from sklearn.metrics import accuracy_score, confusion_matrix, classification_report\n",
    "\n",
    "import missingno as msno"
   ]
  },
  {
   "cell_type": "code",
   "execution_count": 26,
   "metadata": {},
   "outputs": [
    {
     "data": {
      "text/html": [
       "<div>\n",
       "<style scoped>\n",
       "    .dataframe tbody tr th:only-of-type {\n",
       "        vertical-align: middle;\n",
       "    }\n",
       "\n",
       "    .dataframe tbody tr th {\n",
       "        vertical-align: top;\n",
       "    }\n",
       "\n",
       "    .dataframe thead th {\n",
       "        text-align: right;\n",
       "    }\n",
       "</style>\n",
       "<table border=\"1\" class=\"dataframe\">\n",
       "  <thead>\n",
       "    <tr style=\"text-align: right;\">\n",
       "      <th></th>\n",
       "      <th>id</th>\n",
       "      <th>longitude</th>\n",
       "      <th>latitude</th>\n",
       "      <th>housing_median_age</th>\n",
       "      <th>total_rooms</th>\n",
       "      <th>total_bedrooms</th>\n",
       "      <th>population</th>\n",
       "      <th>households</th>\n",
       "      <th>median_income</th>\n",
       "      <th>median_house_value</th>\n",
       "      <th>ocean_proximity</th>\n",
       "    </tr>\n",
       "  </thead>\n",
       "  <tbody>\n",
       "    <tr>\n",
       "      <th>0</th>\n",
       "      <td>9744</td>\n",
       "      <td>-121.65</td>\n",
       "      <td>36.77</td>\n",
       "      <td>15</td>\n",
       "      <td>2191</td>\n",
       "      <td>358.0</td>\n",
       "      <td>1150</td>\n",
       "      <td>330</td>\n",
       "      <td>4.7969</td>\n",
       "      <td>227500.0</td>\n",
       "      <td>&lt;1H OCEAN</td>\n",
       "    </tr>\n",
       "    <tr>\n",
       "      <th>1</th>\n",
       "      <td>13893</td>\n",
       "      <td>-116.27</td>\n",
       "      <td>34.13</td>\n",
       "      <td>37</td>\n",
       "      <td>452</td>\n",
       "      <td>109.0</td>\n",
       "      <td>184</td>\n",
       "      <td>59</td>\n",
       "      <td>3.7292</td>\n",
       "      <td>65800.0</td>\n",
       "      <td>INLAND</td>\n",
       "    </tr>\n",
       "    <tr>\n",
       "      <th>2</th>\n",
       "      <td>18277</td>\n",
       "      <td>-122.07</td>\n",
       "      <td>37.34</td>\n",
       "      <td>35</td>\n",
       "      <td>1172</td>\n",
       "      <td>184.0</td>\n",
       "      <td>512</td>\n",
       "      <td>175</td>\n",
       "      <td>7.3561</td>\n",
       "      <td>500001.0</td>\n",
       "      <td>&lt;1H OCEAN</td>\n",
       "    </tr>\n",
       "    <tr>\n",
       "      <th>3</th>\n",
       "      <td>16176</td>\n",
       "      <td>-122.39</td>\n",
       "      <td>37.74</td>\n",
       "      <td>52</td>\n",
       "      <td>126</td>\n",
       "      <td>24.0</td>\n",
       "      <td>37</td>\n",
       "      <td>27</td>\n",
       "      <td>10.2264</td>\n",
       "      <td>225000.0</td>\n",
       "      <td>NEAR BAY</td>\n",
       "    </tr>\n",
       "    <tr>\n",
       "      <th>4</th>\n",
       "      <td>8843</td>\n",
       "      <td>-118.38</td>\n",
       "      <td>34.09</td>\n",
       "      <td>28</td>\n",
       "      <td>4001</td>\n",
       "      <td>1352.0</td>\n",
       "      <td>1799</td>\n",
       "      <td>1220</td>\n",
       "      <td>2.5784</td>\n",
       "      <td>272900.0</td>\n",
       "      <td>&lt;1H OCEAN</td>\n",
       "    </tr>\n",
       "  </tbody>\n",
       "</table>\n",
       "</div>"
      ],
      "text/plain": [
       "      id  longitude  latitude  housing_median_age  total_rooms  \\\n",
       "0   9744    -121.65     36.77                  15         2191   \n",
       "1  13893    -116.27     34.13                  37          452   \n",
       "2  18277    -122.07     37.34                  35         1172   \n",
       "3  16176    -122.39     37.74                  52          126   \n",
       "4   8843    -118.38     34.09                  28         4001   \n",
       "\n",
       "   total_bedrooms  population  households  median_income  median_house_value  \\\n",
       "0           358.0        1150         330         4.7969            227500.0   \n",
       "1           109.0         184          59         3.7292             65800.0   \n",
       "2           184.0         512         175         7.3561            500001.0   \n",
       "3            24.0          37          27        10.2264            225000.0   \n",
       "4          1352.0        1799        1220         2.5784            272900.0   \n",
       "\n",
       "  ocean_proximity  \n",
       "0       <1H OCEAN  \n",
       "1          INLAND  \n",
       "2       <1H OCEAN  \n",
       "3        NEAR BAY  \n",
       "4       <1H OCEAN  "
      ]
     },
     "execution_count": 26,
     "metadata": {},
     "output_type": "execute_result"
    }
   ],
   "source": [
    "df = pd.read_csv('train.csv')\n",
    "df.head()"
   ]
  },
  {
   "cell_type": "code",
   "execution_count": 27,
   "metadata": {},
   "outputs": [
    {
     "data": {
      "text/plain": [
       "(14447, 11)"
      ]
     },
     "execution_count": 27,
     "metadata": {},
     "output_type": "execute_result"
    }
   ],
   "source": [
    "df.shape"
   ]
  },
  {
   "cell_type": "code",
   "execution_count": 28,
   "metadata": {},
   "outputs": [
    {
     "name": "stdout",
     "output_type": "stream",
     "text": [
      "<class 'pandas.core.frame.DataFrame'>\n",
      "RangeIndex: 14447 entries, 0 to 14446\n",
      "Data columns (total 11 columns):\n",
      " #   Column              Non-Null Count  Dtype  \n",
      "---  ------              --------------  -----  \n",
      " 0   id                  14447 non-null  int64  \n",
      " 1   longitude           14447 non-null  float64\n",
      " 2   latitude            14447 non-null  float64\n",
      " 3   housing_median_age  14447 non-null  int64  \n",
      " 4   total_rooms         14447 non-null  int64  \n",
      " 5   total_bedrooms      14310 non-null  float64\n",
      " 6   population          14447 non-null  int64  \n",
      " 7   households          14447 non-null  int64  \n",
      " 8   median_income       14447 non-null  float64\n",
      " 9   median_house_value  14447 non-null  float64\n",
      " 10  ocean_proximity     14447 non-null  object \n",
      "dtypes: float64(5), int64(5), object(1)\n",
      "memory usage: 1.2+ MB\n"
     ]
    }
   ],
   "source": [
    "df.info()"
   ]
  },
  {
   "attachments": {},
   "cell_type": "markdown",
   "metadata": {},
   "source": [
    "#### 1. Determine que columnas poseen faltantes (NA o Nulos)"
   ]
  },
  {
   "cell_type": "code",
   "execution_count": 29,
   "metadata": {},
   "outputs": [
    {
     "data": {
      "text/plain": [
       "id                      0\n",
       "longitude               0\n",
       "latitude                0\n",
       "housing_median_age      0\n",
       "total_rooms             0\n",
       "total_bedrooms        137\n",
       "population              0\n",
       "households              0\n",
       "median_income           0\n",
       "median_house_value      0\n",
       "ocean_proximity         0\n",
       "dtype: int64"
      ]
     },
     "execution_count": 29,
     "metadata": {},
     "output_type": "execute_result"
    }
   ],
   "source": [
    "df.isnull().sum()"
   ]
  },
  {
   "attachments": {},
   "cell_type": "markdown",
   "metadata": {},
   "source": [
    "#### 2. Determine la proporción de faltantes para cada columna con faltantes, muestre una gráfica de barras."
   ]
  },
  {
   "cell_type": "code",
   "execution_count": 30,
   "metadata": {},
   "outputs": [
    {
     "data": {
      "text/plain": [
       "<AxesSubplot:>"
      ]
     },
     "execution_count": 30,
     "metadata": {},
     "output_type": "execute_result"
    },
    {
     "data": {
      "image/png": "[encoded data removed]",
      "text/plain": [
       "<Figure size 864x432 with 3 Axes>"
      ]
     },
     "metadata": {
      "needs_background": "light"
     },
     "output_type": "display_data"
    }
   ],
   "source": [
    "msno.bar(df,figsize=(12, 6), fontsize=12, color='steelblue')"
   ]
  },
  {
   "attachments": {},
   "cell_type": "markdown",
   "metadata": {},
   "source": [
    "## Se puede observar que la columna con faltantes es TOTAL_BEDROOMS"
   ]
  },
  {
   "attachments": {},
   "cell_type": "markdown",
   "metadata": {},
   "source": [
    "#### 3. Si la variable es numérica realice un análisis de cual sería el mejor método para realizar la imputación de datos, debe mostrar un bloque de código donde se muestre cada imputación y su análisis. Recuerde que puede ser: a. Eliminar los faltantes, b. Imputación de media o mediana, c. Valores arbitrarios (extremo derecho y extremo izquierdo), d. Generación de números aleatorios en base a la distribución (no visto en clase)."
   ]
  },
  {
   "cell_type": "code",
   "execution_count": 31,
   "metadata": {},
   "outputs": [
    {
     "name": "stdout",
     "output_type": "stream",
     "text": [
      "Media:537.7787561146051\n",
      "Median:433.0\n"
     ]
    }
   ],
   "source": [
    "media = df['total_bedrooms'].mean()\n",
    "mediana = df['total_bedrooms'].median()\n",
    "\n",
    "print(f\"Media:{media}\")\n",
    "print(f\"Median:{mediana}\")"
   ]
  },
  {
   "cell_type": "code",
   "execution_count": 32,
   "metadata": {},
   "outputs": [],
   "source": [
    "df['total_bedrooms_Mean'] = np.round(df['total_bedrooms'].fillna(media))\n",
    "df['total_bedrooms_Median'] = np.round(df['total_bedrooms'].fillna(mediana))"
   ]
  },
  {
   "cell_type": "code",
   "execution_count": 33,
   "metadata": {},
   "outputs": [
    {
     "data": {
      "text/plain": [
       "<matplotlib.legend.Legend at 0x138e22797f0>"
      ]
     },
     "execution_count": 33,
     "metadata": {},
     "output_type": "execute_result"
    },
    {
     "data": {
      "image/png": "[encoded data removed]",
      "text/plain": [
       "<Figure size 432x288 with 1 Axes>"
      ]
     },
     "metadata": {
      "needs_background": "light"
     },
     "output_type": "display_data"
    }
   ],
   "source": [
    "fig = plt.figure()\n",
    "ax = fig.add_subplot(111)\n",
    "\n",
    "df['total_bedrooms'].plot.density(color='green',label='Original')\n",
    "df['total_bedrooms_Mean'].plot.density(color='blue',label='Media')\n",
    "df['total_bedrooms_Median'].plot.density(color='red',label='Mean')\n",
    "ax.legend()"
   ]
  },
  {
   "cell_type": "code",
   "execution_count": 34,
   "metadata": {},
   "outputs": [
    {
     "data": {
      "image/png": "[encoded data removed]",
      "text/plain": [
       "<Figure size 432x288 with 1 Axes>"
      ]
     },
     "metadata": {
      "needs_background": "light"
     },
     "output_type": "display_data"
    }
   ],
   "source": [
    "df[['total_bedrooms', 'total_bedrooms_Mean', 'total_bedrooms_Median']].boxplot()\n",
    "plt.show()"
   ]
  },
  {
   "attachments": {},
   "cell_type": "markdown",
   "metadata": {},
   "source": [
    "#### 4. Si la variable es categórica, realice una imputación que considere necesaria.\n",
    "Se puede observar que la variable con faltantes es numérica y no categórica"
   ]
  },
  {
   "attachments": {},
   "cell_type": "markdown",
   "metadata": {},
   "source": [
    "#### 5. Realice la codificación de variables categóricas, determine cual es le mejor enfoque para cada caso, recuerde que puede realizar los siguientes enfoques: a. One Hote Encodign. b. Codificación por Frecuencia. C. codificación por Densidad."
   ]
  },
  {
   "cell_type": "code",
   "execution_count": 35,
   "metadata": {},
   "outputs": [
    {
     "data": {
      "text/plain": [
       "id                         int64\n",
       "longitude                float64\n",
       "latitude                 float64\n",
       "housing_median_age         int64\n",
       "total_rooms                int64\n",
       "total_bedrooms           float64\n",
       "population                 int64\n",
       "households                 int64\n",
       "median_income            float64\n",
       "median_house_value       float64\n",
       "ocean_proximity           object\n",
       "total_bedrooms_Mean      float64\n",
       "total_bedrooms_Median    float64\n",
       "dtype: object"
      ]
     },
     "execution_count": 35,
     "metadata": {},
     "output_type": "execute_result"
    }
   ],
   "source": [
    "df.dtypes"
   ]
  },
  {
   "cell_type": "code",
   "execution_count": 44,
   "metadata": {},
   "outputs": [
    {
     "data": {
      "text/plain": [
       "<BarContainer object of 5 artists>"
      ]
     },
     "execution_count": 44,
     "metadata": {},
     "output_type": "execute_result"
    },
    {
     "data": {
      "image/png": "[encoded data removed]",
      "text/plain": [
       "<Figure size 432x288 with 1 Axes>"
      ]
     },
     "metadata": {
      "needs_background": "light"
     },
     "output_type": "display_data"
    }
   ],
   "source": [
    "conteo = df['ocean_proximity'].value_counts()\n",
    "plt.bar(conteo.index,conteo.values)"
   ]
  },
  {
   "attachments": {},
   "cell_type": "markdown",
   "metadata": {},
   "source": [
    "#### 6. Para todas las variables resultantes realice Feature Scaling según lo considere más pertinente."
   ]
  },
  {
   "cell_type": "code",
   "execution_count": 49,
   "metadata": {},
   "outputs": [],
   "source": [
    "df = pd.get_dummies(df, columns = ['ocean_proximity'])"
   ]
  },
  {
   "cell_type": "code",
   "execution_count": 51,
   "metadata": {},
   "outputs": [],
   "source": [
    "scaler = StandardScaler()\n",
    "DFscaler = scaler.fit_transform(df)\n",
    "DFscaler = pd.DataFrame(DFscaler, columns=df.columns)\n"
   ]
  },
  {
   "cell_type": "code",
   "execution_count": 53,
   "metadata": {},
   "outputs": [
    {
     "data": {
      "text/html": [
       "<div>\n",
       "<style scoped>\n",
       "    .dataframe tbody tr th:only-of-type {\n",
       "        vertical-align: middle;\n",
       "    }\n",
       "\n",
       "    .dataframe tbody tr th {\n",
       "        vertical-align: top;\n",
       "    }\n",
       "\n",
       "    .dataframe thead th {\n",
       "        text-align: right;\n",
       "    }\n",
       "</style>\n",
       "<table border=\"1\" class=\"dataframe\">\n",
       "  <thead>\n",
       "    <tr style=\"text-align: right;\">\n",
       "      <th></th>\n",
       "      <th>id</th>\n",
       "      <th>longitude</th>\n",
       "      <th>latitude</th>\n",
       "      <th>housing_median_age</th>\n",
       "      <th>total_rooms</th>\n",
       "      <th>total_bedrooms</th>\n",
       "      <th>population</th>\n",
       "      <th>households</th>\n",
       "      <th>median_income</th>\n",
       "      <th>median_house_value</th>\n",
       "      <th>total_bedrooms_Mean</th>\n",
       "      <th>total_bedrooms_Median</th>\n",
       "      <th>ocean_proximity_&lt;1H OCEAN</th>\n",
       "      <th>ocean_proximity_INLAND</th>\n",
       "      <th>ocean_proximity_ISLAND</th>\n",
       "      <th>ocean_proximity_NEAR BAY</th>\n",
       "      <th>ocean_proximity_NEAR OCEAN</th>\n",
       "    </tr>\n",
       "  </thead>\n",
       "  <tbody>\n",
       "    <tr>\n",
       "      <th>count</th>\n",
       "      <td>14447.00</td>\n",
       "      <td>14447.00</td>\n",
       "      <td>14447.00</td>\n",
       "      <td>14447.00</td>\n",
       "      <td>14447.00</td>\n",
       "      <td>14310.00</td>\n",
       "      <td>14447.00</td>\n",
       "      <td>14447.00</td>\n",
       "      <td>14447.00</td>\n",
       "      <td>14447.00</td>\n",
       "      <td>14447.00</td>\n",
       "      <td>14447.00</td>\n",
       "      <td>14447.00</td>\n",
       "      <td>14447.00</td>\n",
       "      <td>14447.00</td>\n",
       "      <td>14447.00</td>\n",
       "      <td>14447.00</td>\n",
       "    </tr>\n",
       "    <tr>\n",
       "      <th>mean</th>\n",
       "      <td>-0.00</td>\n",
       "      <td>0.00</td>\n",
       "      <td>0.00</td>\n",
       "      <td>0.00</td>\n",
       "      <td>-0.00</td>\n",
       "      <td>0.00</td>\n",
       "      <td>0.00</td>\n",
       "      <td>-0.00</td>\n",
       "      <td>-0.00</td>\n",
       "      <td>0.00</td>\n",
       "      <td>-0.00</td>\n",
       "      <td>-0.00</td>\n",
       "      <td>-0.00</td>\n",
       "      <td>0.00</td>\n",
       "      <td>-0.00</td>\n",
       "      <td>0.00</td>\n",
       "      <td>0.00</td>\n",
       "    </tr>\n",
       "    <tr>\n",
       "      <th>std</th>\n",
       "      <td>1.00</td>\n",
       "      <td>1.00</td>\n",
       "      <td>1.00</td>\n",
       "      <td>1.00</td>\n",
       "      <td>1.00</td>\n",
       "      <td>1.00</td>\n",
       "      <td>1.00</td>\n",
       "      <td>1.00</td>\n",
       "      <td>1.00</td>\n",
       "      <td>1.00</td>\n",
       "      <td>1.00</td>\n",
       "      <td>1.00</td>\n",
       "      <td>1.00</td>\n",
       "      <td>1.00</td>\n",
       "      <td>1.00</td>\n",
       "      <td>1.00</td>\n",
       "      <td>1.00</td>\n",
       "    </tr>\n",
       "    <tr>\n",
       "      <th>min</th>\n",
       "      <td>-1.72</td>\n",
       "      <td>-2.36</td>\n",
       "      <td>-1.45</td>\n",
       "      <td>-2.21</td>\n",
       "      <td>-1.19</td>\n",
       "      <td>-1.27</td>\n",
       "      <td>-1.26</td>\n",
       "      <td>-1.29</td>\n",
       "      <td>-1.78</td>\n",
       "      <td>-1.66</td>\n",
       "      <td>-1.27</td>\n",
       "      <td>-1.27</td>\n",
       "      <td>-0.89</td>\n",
       "      <td>-0.68</td>\n",
       "      <td>-0.01</td>\n",
       "      <td>-0.36</td>\n",
       "      <td>-0.39</td>\n",
       "    </tr>\n",
       "    <tr>\n",
       "      <th>25%</th>\n",
       "      <td>-0.86</td>\n",
       "      <td>-1.11</td>\n",
       "      <td>-0.80</td>\n",
       "      <td>-0.86</td>\n",
       "      <td>-0.54</td>\n",
       "      <td>-0.57</td>\n",
       "      <td>-0.57</td>\n",
       "      <td>-0.57</td>\n",
       "      <td>-0.69</td>\n",
       "      <td>-0.76</td>\n",
       "      <td>-0.57</td>\n",
       "      <td>-0.57</td>\n",
       "      <td>-0.89</td>\n",
       "      <td>-0.68</td>\n",
       "      <td>-0.01</td>\n",
       "      <td>-0.36</td>\n",
       "      <td>-0.39</td>\n",
       "    </tr>\n",
       "    <tr>\n",
       "      <th>50%</th>\n",
       "      <td>-0.01</td>\n",
       "      <td>0.54</td>\n",
       "      <td>-0.65</td>\n",
       "      <td>0.01</td>\n",
       "      <td>-0.23</td>\n",
       "      <td>-0.25</td>\n",
       "      <td>-0.23</td>\n",
       "      <td>-0.24</td>\n",
       "      <td>-0.17</td>\n",
       "      <td>-0.24</td>\n",
       "      <td>-0.24</td>\n",
       "      <td>-0.25</td>\n",
       "      <td>-0.89</td>\n",
       "      <td>-0.68</td>\n",
       "      <td>-0.01</td>\n",
       "      <td>-0.36</td>\n",
       "      <td>-0.39</td>\n",
       "    </tr>\n",
       "    <tr>\n",
       "      <th>75%</th>\n",
       "      <td>0.87</td>\n",
       "      <td>0.78</td>\n",
       "      <td>0.97</td>\n",
       "      <td>0.65</td>\n",
       "      <td>0.23</td>\n",
       "      <td>0.26</td>\n",
       "      <td>0.26</td>\n",
       "      <td>0.27</td>\n",
       "      <td>0.45</td>\n",
       "      <td>0.50</td>\n",
       "      <td>0.25</td>\n",
       "      <td>0.25</td>\n",
       "      <td>1.12</td>\n",
       "      <td>1.47</td>\n",
       "      <td>-0.01</td>\n",
       "      <td>-0.36</td>\n",
       "      <td>-0.39</td>\n",
       "    </tr>\n",
       "    <tr>\n",
       "      <th>max</th>\n",
       "      <td>1.74</td>\n",
       "      <td>2.63</td>\n",
       "      <td>2.95</td>\n",
       "      <td>1.84</td>\n",
       "      <td>16.56</td>\n",
       "      <td>13.93</td>\n",
       "      <td>24.15</td>\n",
       "      <td>14.45</td>\n",
       "      <td>5.88</td>\n",
       "      <td>2.54</td>\n",
       "      <td>14.00</td>\n",
       "      <td>14.00</td>\n",
       "      <td>1.12</td>\n",
       "      <td>1.47</td>\n",
       "      <td>84.99</td>\n",
       "      <td>2.81</td>\n",
       "      <td>2.60</td>\n",
       "    </tr>\n",
       "  </tbody>\n",
       "</table>\n",
       "</div>"
      ],
      "text/plain": [
       "             id  longitude  latitude  housing_median_age  total_rooms  \\\n",
       "count  14447.00   14447.00  14447.00            14447.00     14447.00   \n",
       "mean      -0.00       0.00      0.00                0.00        -0.00   \n",
       "std        1.00       1.00      1.00                1.00         1.00   \n",
       "min       -1.72      -2.36     -1.45               -2.21        -1.19   \n",
       "25%       -0.86      -1.11     -0.80               -0.86        -0.54   \n",
       "50%       -0.01       0.54     -0.65                0.01        -0.23   \n",
       "75%        0.87       0.78      0.97                0.65         0.23   \n",
       "max        1.74       2.63      2.95                1.84        16.56   \n",
       "\n",
       "       total_bedrooms  population  households  median_income  \\\n",
       "count        14310.00    14447.00    14447.00       14447.00   \n",
       "mean             0.00        0.00       -0.00          -0.00   \n",
       "std              1.00        1.00        1.00           1.00   \n",
       "min             -1.27       -1.26       -1.29          -1.78   \n",
       "25%             -0.57       -0.57       -0.57          -0.69   \n",
       "50%             -0.25       -0.23       -0.24          -0.17   \n",
       "75%              0.26        0.26        0.27           0.45   \n",
       "max             13.93       24.15       14.45           5.88   \n",
       "\n",
       "       median_house_value  total_bedrooms_Mean  total_bedrooms_Median  \\\n",
       "count            14447.00             14447.00               14447.00   \n",
       "mean                 0.00                -0.00                  -0.00   \n",
       "std                  1.00                 1.00                   1.00   \n",
       "min                 -1.66                -1.27                  -1.27   \n",
       "25%                 -0.76                -0.57                  -0.57   \n",
       "50%                 -0.24                -0.24                  -0.25   \n",
       "75%                  0.50                 0.25                   0.25   \n",
       "max                  2.54                14.00                  14.00   \n",
       "\n",
       "       ocean_proximity_<1H OCEAN  ocean_proximity_INLAND  \\\n",
       "count                   14447.00                14447.00   \n",
       "mean                       -0.00                    0.00   \n",
       "std                         1.00                    1.00   \n",
       "min                        -0.89                   -0.68   \n",
       "25%                        -0.89                   -0.68   \n",
       "50%                        -0.89                   -0.68   \n",
       "75%                         1.12                    1.47   \n",
       "max                         1.12                    1.47   \n",
       "\n",
       "       ocean_proximity_ISLAND  ocean_proximity_NEAR BAY  \\\n",
       "count                14447.00                  14447.00   \n",
       "mean                    -0.00                      0.00   \n",
       "std                      1.00                      1.00   \n",
       "min                     -0.01                     -0.36   \n",
       "25%                     -0.01                     -0.36   \n",
       "50%                     -0.01                     -0.36   \n",
       "75%                     -0.01                     -0.36   \n",
       "max                     84.99                      2.81   \n",
       "\n",
       "       ocean_proximity_NEAR OCEAN  \n",
       "count                    14447.00  \n",
       "mean                         0.00  \n",
       "std                          1.00  \n",
       "min                         -0.39  \n",
       "25%                         -0.39  \n",
       "50%                         -0.39  \n",
       "75%                         -0.39  \n",
       "max                          2.60  "
      ]
     },
     "execution_count": 53,
     "metadata": {},
     "output_type": "execute_result"
    }
   ],
   "source": [
    "round(DFscaler.describe(),2)"
   ]
  }
 ],
 "metadata": {
  "kernelspec": {
   "display_name": "base",
   "language": "python",
   "name": "python3"
  },
  "language_info": {
   "codemirror_mode": {
    "name": "ipython",
    "version": 3
   },
   "file_extension": ".py",
   "mimetype": "text/x-python",
   "name": "python",
   "nbconvert_exporter": "python",
   "pygments_lexer": "ipython3",
   "version": "3.9.12"
  },
  "orig_nbformat": 4
 },
 "nbformat": 4,
 "nbformat_minor": 2
}
